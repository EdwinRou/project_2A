{
 "cells": [
  {
   "cell_type": "markdown",
   "id": "e3297d7d-f1b3-44ad-b7c6-90798ac0e443",
   "metadata": {},
   "source": [
    "On remets en place les mêmes librairies et données que précédement."
   ]
  },
  {
   "cell_type": "code",
   "execution_count": 1,
   "id": "00635b6f-df47-4e2f-aed1-73c450319024",
   "metadata": {
    "collapsed": true,
    "jupyter": {
     "outputs_hidden": true
    },
    "tags": []
   },
   "outputs": [
    {
     "data": {
      "image/png": "[encoded data removed]",
      "text/html": [
       "<div style=\"vertical-align: middle;\"><strong>viridis</strong> </div><div class=\"cmap\"><img alt=\"viridis colormap\" title=\"viridis\" style=\"border: 1px solid #555;\" src=\"data:image/png;base64,iVBORw0KGgoAAAANSUhEUgAAAgAAAABACAYAAABsv8+/AAAAFnRFWHRUaXRsZQB2aXJpZGlzIGNvbG9ybWFwrE0mCwAAABx0RVh0RGVzY3JpcHRpb24AdmlyaWRpcyBjb2xvcm1hcAtjl3IAAAAwdEVYdEF1dGhvcgBNYXRwbG90bGliIHYzLjUuMiwgaHR0cHM6Ly9tYXRwbG90bGliLm9yZ8JaeJwAAAAydEVYdFNvZnR3YXJlAE1hdHBsb3RsaWIgdjMuNS4yLCBodHRwczovL21hdHBsb3RsaWIub3Jn7PznuwAAAiJJREFUeJzt1kGSmzAURdEv2FqWkP0vJfQgMhQCGceV2Ttn4pL0EVQPum771X5vVVXVWv39XfrPeV193V5zS98f1sf5/fPjey73zu6/3Hv/uz2cz57f9vP68rxO9+/zre7nhvvG+et6vH92bw3PDfcsD+eX59+/53n96f3362/f87/vf5yr93Of72/fPV9P89tX3zGeH3OT8/07Zs+/32+TuXZZD8/VODf8W5uuH/b7vctlfuv7NazH8/t7ZnP7bz2cD3NL+/Ph3Hl+/efz83vWun/vuL++nquH9eu9w/uu6/vvOO49f/8xf77vOj+8b7Y/fMfse9ca/y7nv+d62a++X+f1vt+G/b7u+/u6TxzzS//tc2053QMABBEAABBIAABAIAEAAIEEAAAEEgAAEEgAAEAgAQAAgQQAAAQSAAAQSAAAQCABAACBBAAABBIAABBIAABAIAEAAIEEAAAEEgAAEEgAAEAgAQAAgQQAAAQSAAAQSAAAQCABAACBBAAABBIAABBIAABAIAEAAIEEAAAEEgAAEEgAAEAgAQAAgQQAAAQSAAAQSAAAQCABAACBBAAABBIAABBIAABAIAEAAIEEAAAEEgAAEEgAAEAgAQAAgQQAAAQSAAAQSAAAQCABAACBBAAABBIAABBIAABAIAEAAIEEAAAEEgAAEEgAAEAgAQAAgQQAAAQSAAAQSAAAQCABAACBBAAABBIAABBIAABAoB9ucImHxcKZtAAAAABJRU5ErkJggg==\"></div><div style=\"vertical-align: middle; max-width: 514px; display: flex; justify-content: space-between;\"><div style=\"float: left;\"><div title=\"#440154ff\" style=\"display: inline-block; width: 1em; height: 1em; margin: 0; vertical-align: middle; border: 1px solid #555; background-color: #440154ff;\"></div> under</div><div style=\"margin: 0 auto; display: inline-block;\">bad <div title=\"#00000000\" style=\"display: inline-block; width: 1em; height: 1em; margin: 0; vertical-align: middle; border: 1px solid #555; background-color: #00000000;\"></div></div><div style=\"float: right;\">over <div title=\"#fde725ff\" style=\"display: inline-block; width: 1em; height: 1em; margin: 0; vertical-align: middle; border: 1px solid #555; background-color: #fde725ff;\"></div></div>"
      ],
      "text/plain": [
       "<matplotlib.colors.ListedColormap at 0x2494a2e7910>"
      ]
     },
     "execution_count": 1,
     "metadata": {},
     "output_type": "execute_result"
    }
   ],
   "source": [
    "import pandas as pd\n",
    "import numpy as np\n",
    "import matplotlib.pyplot as plt\n",
    "import seaborn as sns\n",
    "\n",
    "sns.set_theme(style=\"whitegrid\")\n",
    "#palettes\n",
    "sns.color_palette(\"magma\", as_cmap=True)\n",
    "sns.color_palette(\"cubehelix\", as_cmap=True)\n",
    "sns.color_palette(\"flare\", as_cmap=True)\n",
    "sns.color_palette(\"viridis\", as_cmap=True)"
   ]
  },
  {
   "cell_type": "code",
   "execution_count": 10,
   "id": "3190726b-df08-482f-9abd-455b03ce17fb",
   "metadata": {
    "tags": []
   },
   "outputs": [],
   "source": [
    "df_oct = pd.read_csv(\"matchs_octobre.csv\",index_col = 0)\n",
    "for col in df_oct.columns[:-1]:\n",
    "    df_oct[col] = df_oct[col].apply(lambda x: eval(x))\n",
    "df_nov = pd.read_csv(\"matchs_novembre.csv\",index_col = 0)\n",
    "for col in df_nov.columns[:-1]:\n",
    "    df_nov[col] = df_nov[col].apply(lambda x: eval(x))\n",
    "df_mat_fea = pd.read_csv(\"matchs_features_novembre.csv\")"
   ]
  },
  {
   "cell_type": "code",
   "execution_count": 3,
   "id": "a978a737-8b67-4d9c-a870-c2382e3661cc",
   "metadata": {
    "jupyter": {
     "source_hidden": true
    },
    "tags": []
   },
   "outputs": [],
   "source": [
    "champ_list = ['Nilah',\n",
    " 'Renata',\n",
    " 'Belveth',\n",
    " 'Aatrox',\n",
    " 'Ahri',\n",
    " 'Akali',\n",
    " 'Akshan',\n",
    " 'Alistar',\n",
    " 'Amumu',\n",
    " 'Anivia',\n",
    " 'Annie',\n",
    " 'Aphelios',\n",
    " 'Ashe',\n",
    " 'AurelionSol',\n",
    " 'Azir',\n",
    " 'Bard',\n",
    " 'Blitzcrank',\n",
    " 'Brand',\n",
    " 'Braum',\n",
    " 'Caitlyn',\n",
    " 'Camille',\n",
    " 'Cassiopeia',\n",
    " 'Chogath',\n",
    " 'Corki',\n",
    " 'Darius',\n",
    " 'Diana',\n",
    " 'Draven',\n",
    " 'DrMundo',\n",
    " 'Ekko',\n",
    " 'Elise',\n",
    " 'Evelynn',\n",
    " 'Ezreal',\n",
    " 'FiddleSticks',\n",
    " 'Fiora',\n",
    " 'Fizz',\n",
    " 'Galio',\n",
    " 'Gangplank',\n",
    " 'Garen',\n",
    " 'Gnar',\n",
    " 'Gragas',\n",
    " 'Graves',\n",
    " 'Gwen',\n",
    " 'Hecarim',\n",
    " 'Heimerdinger',\n",
    " 'Illaoi',\n",
    " 'Irelia',\n",
    " 'Ivern',\n",
    " 'Janna',\n",
    " 'JarvanIV',\n",
    " 'Jax',\n",
    " 'Jayce',\n",
    " 'Jhin',\n",
    " 'Jinx',\n",
    " 'Kaisa',\n",
    " 'Kalista',\n",
    " 'Karma',\n",
    " 'Karthus',\n",
    " 'Kassadin',\n",
    " 'Katarina',\n",
    " 'Kayle',\n",
    " 'Kayn',\n",
    " 'Kennen',\n",
    " 'Khazix',\n",
    " 'Kindred',\n",
    " 'Kled',\n",
    " 'KogMaw',\n",
    " 'KSante',\n",
    " 'Leblanc',\n",
    " 'LeeSin',\n",
    " 'Leona',\n",
    " 'Lillia',\n",
    " 'Lissandra',\n",
    " 'Lucian',\n",
    " 'Lulu',\n",
    " 'Lux',\n",
    " 'Malphite',\n",
    " 'Malzahar',\n",
    " 'Maokai',\n",
    " 'MasterYi',\n",
    " 'MissFortune',\n",
    " 'MonkeyKing',\n",
    " 'Mordekaiser',\n",
    " 'Morgana',\n",
    " 'Nami',\n",
    " 'Nasus',\n",
    " 'Nautilus',\n",
    " 'Neeko',\n",
    " 'Nidalee',\n",
    " 'Nocturne',\n",
    " 'Nunu',\n",
    " 'Olaf',\n",
    " 'Orianna',\n",
    " 'Ornn',\n",
    " 'Pantheon',\n",
    " 'Poppy',\n",
    " 'Pyke',\n",
    " 'Qiyana',\n",
    " 'Quinn',\n",
    " 'Rakan',\n",
    " 'Rammus',\n",
    " 'RekSai',\n",
    " 'Rell',\n",
    " 'Renekton',\n",
    " 'Rengar',\n",
    " 'Riven',\n",
    " 'Rumble',\n",
    " 'Ryze',\n",
    " 'Samira',\n",
    " 'Sejuani',\n",
    " 'Senna',\n",
    " 'Seraphine',\n",
    " 'Sett',\n",
    " 'Shaco',\n",
    " 'Shen',\n",
    " 'Shyvana',\n",
    " 'Singed',\n",
    " 'Sion',\n",
    " 'Sivir',\n",
    " 'Skarner',\n",
    " 'Sona',\n",
    " 'Soraka',\n",
    " 'Swain',\n",
    " 'Sylas',\n",
    " 'Syndra',\n",
    " 'TahmKench',\n",
    " 'Taliyah',\n",
    " 'Talon',\n",
    " 'Taric',\n",
    " 'Teemo',\n",
    " 'Thresh',\n",
    " 'Tristana',\n",
    " 'Trundle',\n",
    " 'Tryndamere',\n",
    " 'TwistedFate',\n",
    " 'Twitch',\n",
    " 'Udyr',\n",
    " 'Urgot',\n",
    " 'Varus',\n",
    " 'Vayne',\n",
    " 'Veigar',\n",
    " 'Velkoz',\n",
    " 'Vex',\n",
    " 'Vi',\n",
    " 'Viego',\n",
    " 'Viktor',\n",
    " 'Vladimir',\n",
    " 'Volibear',\n",
    " 'Warwick',\n",
    " 'Xayah',\n",
    " 'Xerath',\n",
    " 'XinZhao',\n",
    " 'Yasuo',\n",
    " 'Yone',\n",
    " 'Yorick',\n",
    " 'Yuumi',\n",
    " 'Zac',\n",
    " 'Zed',\n",
    " 'Ziggs',\n",
    " 'Zilean',\n",
    " 'Zoe',\n",
    " 'Zyra',\n",
    " 'Zeri']"
   ]
  },
  {
   "cell_type": "code",
   "execution_count": 4,
   "id": "936b0dfc-7928-4b12-a9b6-dffdf8360a3a",
   "metadata": {},
   "outputs": [],
   "source": [
    "df_mat_fea = pd.read_csv(\"matchs_features_novembre.csv\")\n",
    "\n",
    "compteur = np.zeros([10,len(champ_list)], dtype = int)\n",
    "for i in range(10) :\n",
    "    for j in df_oct[df_oct.columns[i]] :      \n",
    "        compteur[i][champ_list.index(j[1])] += 1\n",
    "\n",
    "for i in range(10) :\n",
    "    for j in df_nov[df_nov.columns[i]] :      \n",
    "        compteur[i][champ_list.index(j[1])] += 1\n",
    "\n",
    "champ_game_played = np.zeros(len(compteur[0]), dtype = int)\n",
    "for i in range(10) :\n",
    "    champ_game_played += compteur[i]"
   ]
  },
  {
   "cell_type": "code",
   "execution_count": 5,
   "id": "60535db3-b014-4bb1-9cca-2430d2dc5d37",
   "metadata": {},
   "outputs": [],
   "source": [
    "nb_games_pl = np.zeros(len(champ_game_played))\n",
    "champ_game_count = champ_game_played.copy()\n",
    "\n",
    "\n",
    "for j in range(df_nov.shape[0]) :\n",
    "    for k in range(10) :\n",
    "        index = champ_list.index(df_nov.iloc[j][k][1])\n",
    "        if champ_game_played[index] >= 500 and champ_game_played[index] <= 1500 :  \n",
    "            if df_nov.iloc[j][k][1] == champ_list[index] :\n",
    "                if df_mat_fea.iloc[j][2*k+1] >= 0 :\n",
    "                    nb_games_pl[index] += df_mat_fea.iloc[j][2*k+1]\n",
    "                else :\n",
    "                    champ_game_count[index] -= 1"
   ]
  },
  {
   "cell_type": "code",
   "execution_count": 6,
   "id": "ab7f8b95-da9f-4e75-8c3f-a980327b4eca",
   "metadata": {},
   "outputs": [],
   "source": [
    "df_game_count = pd.DataFrame({\"Champion\" : champ_list, \"Moyenne Parties\" : nb_games_pl/champ_game_count, \"Popularité\" : champ_game_count})\n",
    "df_game_count.drop(df_game_count[df_game_count['Moyenne Parties'] == 0].index, inplace = True)\n",
    "\n",
    "df_game_count = df_game_count.sort_values(\"Popularité\")"
   ]
  },
  {
   "cell_type": "code",
   "execution_count": 7,
   "id": "88bd26e3-9667-4a34-8ff1-3ca9c0bf6848",
   "metadata": {},
   "outputs": [],
   "source": [
    "nb_games_order = np.array(df_game_count[\"Moyenne Parties\"])\n",
    "game_count_order = np.array(df_game_count[\"Popularité\"])\n",
    "ordre = [ int(i/8+1) for i in range (len(game_count_order))]\n",
    "\n",
    "df_test = pd.DataFrame({\"Moyenne Parties\" : nb_games_order, \"Popularité\" : game_count_order, \"Groupe\" : ordre})"
   ]
  },
  {
   "cell_type": "code",
   "execution_count": 8,
   "id": "79e384c7-806c-4a93-98bd-ba1f51075ef6",
   "metadata": {},
   "outputs": [
    {
     "data": {
      "text/plain": [
       "<AxesSubplot:xlabel='Groupe', ylabel='Moyenne Parties'>"
      ]
     },
     "execution_count": 8,
     "metadata": {},
     "output_type": "execute_result"
    },
    {
     "data": {
      "image/png": "[encoded data removed]",
      "text/plain": [
       "<Figure size 640x480 with 1 Axes>"
      ]
     },
     "metadata": {},
     "output_type": "display_data"
    }
   ],
   "source": [
    "sns.barplot(x = \"Groupe\", y=\"Moyenne Parties\", palette = \"magma\", data= df_test)"
   ]
  }
 ],
 "metadata": {
  "kernelspec": {
   "display_name": "Python 3 (ipykernel)",
   "language": "python",
   "name": "python3"
  },
  "language_info": {
   "codemirror_mode": {
    "name": "ipython",
    "version": 3
   },
   "file_extension": ".py",
   "mimetype": "text/x-python",
   "name": "python",
   "nbconvert_exporter": "python",
   "pygments_lexer": "ipython3",
   "version": "3.9.13"
  }
 },
 "nbformat": 4,
 "nbformat_minor": 5
}
