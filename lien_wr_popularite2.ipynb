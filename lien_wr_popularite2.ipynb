{
 "cells": [
  {
   "cell_type": "markdown",
   "id": "d948b0ab-bea4-4f7f-a03e-eb252620a01f",
   "metadata": {},
   "source": [
    "On remets en place les mêmes librairies et données que précédement."
   ]
  },
  {
   "cell_type": "code",
   "execution_count": 1,
   "id": "2ac84e02-0cc8-43be-b9f2-643fd61236fd",
   "metadata": {
    "collapsed": true,
    "jupyter": {
     "outputs_hidden": true,
     "source_hidden": true
    },
    "tags": []
   },
   "outputs": [
    {
     "data": {
      "image/png": "[encoded data removed]",
      "text/html": [
       "<div style=\"vertical-align: middle;\"><strong>viridis</strong> </div><div class=\"cmap\"><img alt=\"viridis colormap\" title=\"viridis\" style=\"border: 1px solid #555;\" src=\"data:image/png;base64,iVBORw0KGgoAAAANSUhEUgAAAgAAAABACAYAAABsv8+/AAAAFnRFWHRUaXRsZQB2aXJpZGlzIGNvbG9ybWFwrE0mCwAAABx0RVh0RGVzY3JpcHRpb24AdmlyaWRpcyBjb2xvcm1hcAtjl3IAAAAwdEVYdEF1dGhvcgBNYXRwbG90bGliIHYzLjUuMiwgaHR0cHM6Ly9tYXRwbG90bGliLm9yZ8JaeJwAAAAydEVYdFNvZnR3YXJlAE1hdHBsb3RsaWIgdjMuNS4yLCBodHRwczovL21hdHBsb3RsaWIub3Jn7PznuwAAAiJJREFUeJzt1kGSmzAURdEv2FqWkP0vJfQgMhQCGceV2Ttn4pL0EVQPum771X5vVVXVWv39XfrPeV193V5zS98f1sf5/fPjey73zu6/3Hv/uz2cz57f9vP68rxO9+/zre7nhvvG+et6vH92bw3PDfcsD+eX59+/53n96f3362/f87/vf5yr93Of72/fPV9P89tX3zGeH3OT8/07Zs+/32+TuXZZD8/VODf8W5uuH/b7vctlfuv7NazH8/t7ZnP7bz2cD3NL+/Ph3Hl+/efz83vWun/vuL++nquH9eu9w/uu6/vvOO49f/8xf77vOj+8b7Y/fMfse9ca/y7nv+d62a++X+f1vt+G/b7u+/u6TxzzS//tc2053QMABBEAABBIAABAIAEAAIEEAAAEEgAAEEgAAEAgAQAAgQQAAAQSAAAQSAAAQCABAACBBAAABBIAABBIAABAIAEAAIEEAAAEEgAAEEgAAEAgAQAAgQQAAAQSAAAQSAAAQCABAACBBAAABBIAABBIAABAIAEAAIEEAAAEEgAAEEgAAEAgAQAAgQQAAAQSAAAQSAAAQCABAACBBAAABBIAABBIAABAIAEAAIEEAAAEEgAAEEgAAEAgAQAAgQQAAAQSAAAQSAAAQCABAACBBAAABBIAABBIAABAIAEAAIEEAAAEEgAAEEgAAEAgAQAAgQQAAAQSAAAQSAAAQCABAACBBAAABBIAABBIAABAoB9ucImHxcKZtAAAAABJRU5ErkJggg==\"></div><div style=\"vertical-align: middle; max-width: 514px; display: flex; justify-content: space-between;\"><div style=\"float: left;\"><div title=\"#440154ff\" style=\"display: inline-block; width: 1em; height: 1em; margin: 0; vertical-align: middle; border: 1px solid #555; background-color: #440154ff;\"></div> under</div><div style=\"margin: 0 auto; display: inline-block;\">bad <div title=\"#00000000\" style=\"display: inline-block; width: 1em; height: 1em; margin: 0; vertical-align: middle; border: 1px solid #555; background-color: #00000000;\"></div></div><div style=\"float: right;\">over <div title=\"#fde725ff\" style=\"display: inline-block; width: 1em; height: 1em; margin: 0; vertical-align: middle; border: 1px solid #555; background-color: #fde725ff;\"></div></div>"
      ],
      "text/plain": [
       "<matplotlib.colors.ListedColormap at 0x2b668bc5910>"
      ]
     },
     "execution_count": 1,
     "metadata": {},
     "output_type": "execute_result"
    }
   ],
   "source": [
    "import pandas as pd\n",
    "import numpy as np\n",
    "import matplotlib.pyplot as plt\n",
    "import seaborn as sns\n",
    "\n",
    "sns.set_theme(style=\"whitegrid\")\n",
    "#palettes\n",
    "sns.color_palette(\"magma\", as_cmap=True)\n",
    "sns.color_palette(\"cubehelix\", as_cmap=True)\n",
    "sns.color_palette(\"flare\", as_cmap=True)\n",
    "sns.color_palette(\"viridis\", as_cmap=True)"
   ]
  },
  {
   "cell_type": "code",
   "execution_count": 2,
   "id": "6834030e-ea8a-43df-b9f4-762d0e03b2fd",
   "metadata": {
    "jupyter": {
     "source_hidden": true
    },
    "tags": []
   },
   "outputs": [],
   "source": [
    "df_oct = pd.read_csv(\"matchs_octobre.csv\",index_col = 0)\n",
    "for col in df_oct.columns[:-1]:\n",
    "    df_oct[col] = df_oct[col].apply(lambda x: eval(x))\n",
    "df_nov = pd.read_csv(\"matchs_novembre.csv\",index_col = 0)\n",
    "for col in df_nov.columns[:-1]:\n",
    "    df_nov[col] = df_nov[col].apply(lambda x: eval(x))"
   ]
  },
  {
   "cell_type": "code",
   "execution_count": 3,
   "id": "352d1803-d0d5-4dd9-bf04-893d3cf498ce",
   "metadata": {
    "jupyter": {
     "source_hidden": true
    },
    "tags": []
   },
   "outputs": [],
   "source": [
    "champ_list = ['Nilah',\n",
    " 'Renata',\n",
    " 'Belveth',\n",
    " 'Aatrox',\n",
    " 'Ahri',\n",
    " 'Akali',\n",
    " 'Akshan',\n",
    " 'Alistar',\n",
    " 'Amumu',\n",
    " 'Anivia',\n",
    " 'Annie',\n",
    " 'Aphelios',\n",
    " 'Ashe',\n",
    " 'AurelionSol',\n",
    " 'Azir',\n",
    " 'Bard',\n",
    " 'Blitzcrank',\n",
    " 'Brand',\n",
    " 'Braum',\n",
    " 'Caitlyn',\n",
    " 'Camille',\n",
    " 'Cassiopeia',\n",
    " 'Chogath',\n",
    " 'Corki',\n",
    " 'Darius',\n",
    " 'Diana',\n",
    " 'Draven',\n",
    " 'DrMundo',\n",
    " 'Ekko',\n",
    " 'Elise',\n",
    " 'Evelynn',\n",
    " 'Ezreal',\n",
    " 'FiddleSticks',\n",
    " 'Fiora',\n",
    " 'Fizz',\n",
    " 'Galio',\n",
    " 'Gangplank',\n",
    " 'Garen',\n",
    " 'Gnar',\n",
    " 'Gragas',\n",
    " 'Graves',\n",
    " 'Gwen',\n",
    " 'Hecarim',\n",
    " 'Heimerdinger',\n",
    " 'Illaoi',\n",
    " 'Irelia',\n",
    " 'Ivern',\n",
    " 'Janna',\n",
    " 'JarvanIV',\n",
    " 'Jax',\n",
    " 'Jayce',\n",
    " 'Jhin',\n",
    " 'Jinx',\n",
    " 'Kaisa',\n",
    " 'Kalista',\n",
    " 'Karma',\n",
    " 'Karthus',\n",
    " 'Kassadin',\n",
    " 'Katarina',\n",
    " 'Kayle',\n",
    " 'Kayn',\n",
    " 'Kennen',\n",
    " 'Khazix',\n",
    " 'Kindred',\n",
    " 'Kled',\n",
    " 'KogMaw',\n",
    " 'KSante',\n",
    " 'Leblanc',\n",
    " 'LeeSin',\n",
    " 'Leona',\n",
    " 'Lillia',\n",
    " 'Lissandra',\n",
    " 'Lucian',\n",
    " 'Lulu',\n",
    " 'Lux',\n",
    " 'Malphite',\n",
    " 'Malzahar',\n",
    " 'Maokai',\n",
    " 'MasterYi',\n",
    " 'MissFortune',\n",
    " 'MonkeyKing',\n",
    " 'Mordekaiser',\n",
    " 'Morgana',\n",
    " 'Nami',\n",
    " 'Nasus',\n",
    " 'Nautilus',\n",
    " 'Neeko',\n",
    " 'Nidalee',\n",
    " 'Nocturne',\n",
    " 'Nunu',\n",
    " 'Olaf',\n",
    " 'Orianna',\n",
    " 'Ornn',\n",
    " 'Pantheon',\n",
    " 'Poppy',\n",
    " 'Pyke',\n",
    " 'Qiyana',\n",
    " 'Quinn',\n",
    " 'Rakan',\n",
    " 'Rammus',\n",
    " 'RekSai',\n",
    " 'Rell',\n",
    " 'Renekton',\n",
    " 'Rengar',\n",
    " 'Riven',\n",
    " 'Rumble',\n",
    " 'Ryze',\n",
    " 'Samira',\n",
    " 'Sejuani',\n",
    " 'Senna',\n",
    " 'Seraphine',\n",
    " 'Sett',\n",
    " 'Shaco',\n",
    " 'Shen',\n",
    " 'Shyvana',\n",
    " 'Singed',\n",
    " 'Sion',\n",
    " 'Sivir',\n",
    " 'Skarner',\n",
    " 'Sona',\n",
    " 'Soraka',\n",
    " 'Swain',\n",
    " 'Sylas',\n",
    " 'Syndra',\n",
    " 'TahmKench',\n",
    " 'Taliyah',\n",
    " 'Talon',\n",
    " 'Taric',\n",
    " 'Teemo',\n",
    " 'Thresh',\n",
    " 'Tristana',\n",
    " 'Trundle',\n",
    " 'Tryndamere',\n",
    " 'TwistedFate',\n",
    " 'Twitch',\n",
    " 'Udyr',\n",
    " 'Urgot',\n",
    " 'Varus',\n",
    " 'Vayne',\n",
    " 'Veigar',\n",
    " 'Velkoz',\n",
    " 'Vex',\n",
    " 'Vi',\n",
    " 'Viego',\n",
    " 'Viktor',\n",
    " 'Vladimir',\n",
    " 'Volibear',\n",
    " 'Warwick',\n",
    " 'Xayah',\n",
    " 'Xerath',\n",
    " 'XinZhao',\n",
    " 'Yasuo',\n",
    " 'Yone',\n",
    " 'Yorick',\n",
    " 'Yuumi',\n",
    " 'Zac',\n",
    " 'Zed',\n",
    " 'Ziggs',\n",
    " 'Zilean',\n",
    " 'Zoe',\n",
    " 'Zyra',\n",
    " 'Zeri']"
   ]
  },
  {
   "cell_type": "markdown",
   "id": "ed229706-461d-4aa1-bfc8-2059a424db24",
   "metadata": {},
   "source": [
    "### Un champion très populaire signifie que plus de gens peu expérimentés sur ce personnage le jouent ?"
   ]
  },
  {
   "cell_type": "markdown",
   "id": "809700fb-aab2-4c3a-a802-ab882a49f2ba",
   "metadata": {},
   "source": [
    "On va maintenant travailler sur le DataFrame de games qui reprend les taux de victoire et nombre de partie des joueurs sur leur champion. De plus nous allons recréer les tableaux créés en première partie donc nous allons avoir besoin."
   ]
  },
  {
   "cell_type": "code",
   "execution_count": 6,
   "id": "7420a344-95bf-478e-889e-a16d82b65f51",
   "metadata": {},
   "outputs": [],
   "source": [
    "df_mat_fea = pd.read_csv(\"matchs_features_novembre.csv\")\n",
    "\n",
    "compteur = np.zeros([10,len(champ_list)], dtype = int)\n",
    "for i in range(10) :\n",
    "    for j in df_oct[df_oct.columns[i]] :      \n",
    "        compteur[i][champ_list.index(j[1])] += 1\n",
    "\n",
    "for i in range(10) :\n",
    "    for j in df_nov[df_nov.columns[i]] :      \n",
    "        compteur[i][champ_list.index(j[1])] += 1\n",
    "\n",
    "champ_game_played = np.zeros(len(compteur[0]), dtype = int)\n",
    "for i in range(10) :\n",
    "    champ_game_played += compteur[i]"
   ]
  },
  {
   "cell_type": "code",
   "execution_count": 7,
   "id": "fdd4e03b-7d10-4ace-bf40-e1413825586f",
   "metadata": {},
   "outputs": [],
   "source": [
    "nb_games_pl = np.zeros(len(champ_game_played))\n",
    "champ_game_count = champ_game_played.copy()\n",
    "\n",
    "\n",
    "for j in range(df_nov.shape[0]) :\n",
    "    for k in range(10) :\n",
    "        index = champ_list.index(df_nov.iloc[j][k][1])\n",
    "        if champ_game_played[index] >= 500 and champ_game_played[index] <= 1500 :  \n",
    "            if df_nov.iloc[j][k][1] == champ_list[index] :\n",
    "                if df_mat_fea.iloc[j][2*k+1] >= 0 :\n",
    "                    nb_games_pl[index] += df_mat_fea.iloc[j][2*k+1]\n",
    "                else :\n",
    "                    champ_game_count[index] -= 1"
   ]
  },
  {
   "cell_type": "code",
   "execution_count": 8,
   "id": "b4f35c5c-af7d-460e-ba38-341efe227e57",
   "metadata": {},
   "outputs": [],
   "source": [
    "df_game_count = pd.DataFrame({\"Champion\" : champ_list, \"Moyenne Parties\" : nb_games_pl/champ_game_count, \"Popularité\" : champ_game_count})\n",
    "df_game_count.drop(df_game_count[df_game_count['Moyenne Parties'] == 0].index, inplace = True)\n",
    "\n",
    "df_game_count = df_game_count.sort_values(\"Popularité\")"
   ]
  },
  {
   "cell_type": "code",
   "execution_count": 9,
   "id": "ba96605d-be47-4887-ae52-41c449c40b01",
   "metadata": {},
   "outputs": [
    {
     "data": {
      "text/plain": [
       "<seaborn.axisgrid.JointGrid at 0x2b66c230e50>"
      ]
     },
     "execution_count": 9,
     "metadata": {},
     "output_type": "execute_result"
    },
    {
     "data": {
      "image/png": "[encoded data removed]",
      "text/plain": [
       "<Figure size 600x600 with 3 Axes>"
      ]
     },
     "metadata": {},
     "output_type": "display_data"
    }
   ],
   "source": [
    "sns.set_theme(style=\"white\")\n",
    "g = sns.JointGrid(data = df_game_count, x=\"Moyenne Parties\", y=\"Popularité\", space=0)\n",
    "g.plot_joint(sns.kdeplot,\n",
    "             fill=True, \n",
    "             thresh=0, levels=100, cmap=\"rocket\")\n",
    "g.plot_marginals(sns.histplot, color=\"#03051A\", alpha=1, bins=25)"
   ]
  }
 ],
 "metadata": {
  "kernelspec": {
   "display_name": "Python 3 (ipykernel)",
   "language": "python",
   "name": "python3"
  },
  "language_info": {
   "codemirror_mode": {
    "name": "ipython",
    "version": 3
   },
   "file_extension": ".py",
   "mimetype": "text/x-python",
   "name": "python",
   "nbconvert_exporter": "python",
   "pygments_lexer": "ipython3",
   "version": "3.9.13"
  }
 },
 "nbformat": 4,
 "nbformat_minor": 5
}
