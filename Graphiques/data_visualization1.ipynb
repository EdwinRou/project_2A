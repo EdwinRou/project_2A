{
 "cells": [
  {
   "cell_type": "code",
   "execution_count": null,
   "id": "b3bf8b97-142f-4858-b81a-c31285bdd25f",
   "metadata": {},
   "outputs": [],
   "source": [
    "#Divers bibliothèques pour manipuler et observer notre jeu de donnée\n",
    "import pandas as pd\n",
    "import matplotlib\n",
    "import plotly.express as px\n",
    "import seaborn as sns\n",
    "\n",
    "df_nov_fea = pd.read_csv('matchs_features_novembre.csv')\n",
    "\n",
    "sns.set_style('darkgrid')\n",
    "matplotlib.rcParams['font.size'] = 14\n",
    "matplotlib.rcParams['figure.figsize'] = (10, 6)\n",
    "matplotlib.rcParams['figure.facecolor'] = '#00000000'"
   ]
  },
  {
   "cell_type": "code",
   "execution_count": null,
   "id": "44c0def8-bae6-4d58-8878-358e0f096767",
   "metadata": {},
   "outputs": [],
   "source": [
    "fig_1 = px.histogram(df_nov_fea, x='blue_winrates_avg', title='AvgWinrate distribution vs Game result, for Blue.',color='Outcome')\n",
    "fig_1.show()"
   ]
  }
 ],
 "metadata": {
  "kernelspec": {
   "display_name": "Python 3 (ipykernel)",
   "language": "python",
   "name": "python3"
  },
  "language_info": {
   "codemirror_mode": {
    "name": "ipython",
    "version": 3
   },
   "file_extension": ".py",
   "mimetype": "text/x-python",
   "name": "python",
   "nbconvert_exporter": "python",
   "pygments_lexer": "ipython3",
   "version": "3.9.13"
  }
 },
 "nbformat": 4,
 "nbformat_minor": 5
}
