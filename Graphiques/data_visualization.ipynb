{
 "cells": [
  {
   "cell_type": "markdown",
   "metadata": {
    "id": "0qnTGImaLZed"
   },
   "source": [
    "# DATA VISUALIZATION \n",
    "\n",
    "Dans cette partie, nous allons d'abord faire différentes observations sur les parties classées jouer en solo sur le jeux vidéos League of Legends."
   ]
  },
  {
   "cell_type": "code",
   "execution_count": 1,
   "metadata": {
    "id": "LCfBA2DXKSHf"
   },
   "outputs": [],
   "source": [
    "#Divers bibliothèques pour manipuler et observer notre jeu de donnée\n",
    "import pandas as pd\n",
    "import numpy as np"
   ]
  },
  {
   "cell_type": "code",
   "execution_count": 14,
   "metadata": {
    "id": "4Dv6e5iULqxW"
   },
   "outputs": [],
   "source": [
    "# On importe le data_set trouvée sur kaggle concernant des parties jouées sur le serveur NA (North America)\n",
    "df_nov_fea = pd.read_csv('matchs_features_novembre.csv', index_col= 0)"
   ]
  },
  {
   "cell_type": "markdown",
   "metadata": {
    "id": "dv0UvQXQMI1q"
   },
   "source": [
    "Dans cette partie, on complète le DataFrame issu du scraping en ajoutant trois colonnes : le WinRate moyen des joueurs de l'équipe bleu sur leur champion, le WinRate moyen des joueurs de l'équipe rouge sur leur champion et la différence de WinRate entre les deux équipes."
   ]
  },
  {
   "cell_type": "code",
   "execution_count": 12,
   "metadata": {},
   "outputs": [],
   "source": [
    "#On définit win rate moyen de l'équipe bleu : blue_winrates_avg\n",
    "df_nov_tr = df_nov_fea.replace(np.nan, 0)\n",
    "\n",
    "list_control_b = np.ones(df_nov_fea.shape[0])*5\n",
    "for i in range (5):\n",
    "    zeros_b = df_nov_fea[df_nov_fea.columns[2*i]].isnull()\n",
    "    for j in range (len(zeros_b)) :\n",
    "        if zeros_b[j] == True :\n",
    "            list_control_b[j] -= 1\n",
    "            \n",
    "df_nov_fea['blue_winrates_avg'] = np.around(sum(df_nov_tr[df_nov_tr.columns[2*i]]/list_control_b for i in range (5)),2)\n",
    "\n",
    "#red_winrates_avg\n",
    "list_control_r = np.ones(df_nov_fea.shape[0])*5\n",
    "for i in range (5):\n",
    "    zeros_r = df_nov_fea[df_nov_fea.columns[10+2*i]].isnull()\n",
    "    for j in range (len(zeros_r)) :\n",
    "        if zeros_r[j] == True :\n",
    "            list_control_r[j] -= 1\n",
    "            \n",
    "df_nov_fea['red_winrates_avg'] = np.around(sum(df_nov_tr[df_nov_tr.columns[10+2*i]]/list_control_r for i in range (5)),2)\n",
    "\n",
    "#On définit le nombre moyen de l'équipe bleu : blue_games_avg\n",
    "list_control_b2 = np.ones(df_nov_fea.shape[0])*5\n",
    "for i in range (5):\n",
    "    zeros_b2 = df_nov_fea[df_nov_fea.columns[2*i+1]].isnull()\n",
    "    for j in range (len(zeros_b2)) :\n",
    "        if zeros_b2[j] == True :\n",
    "            list_control_b2[j] -= 1\n",
    "            \n",
    "df_nov_fea['blue_games_avg'] = np.around(sum(df_nov_tr[df_nov_tr.columns[2*i+1]]/list_control_b2 for i in range (5)),2)\n",
    "\n",
    "#red_games_avg\n",
    "list_control_r2 = np.ones(df_nov_fea.shape[0])*5\n",
    "for i in range (5):\n",
    "    zeros_r2 = df_nov_fea[df_nov_fea.columns[11+2*i]].isnull()\n",
    "    for j in range (len(zeros_r2)) :\n",
    "        if zeros_r2[j] == True :\n",
    "            list_control_r2[j] -= 1\n",
    "            \n",
    "df_nov_fea['red_games_avg'] = np.around(sum(df_nov_tr[df_nov_tr.columns[11+2*i]]/list_control_r2 for i in range (5)),2)\n",
    "\n",
    "df_nov_fea['avg_win_dif'] = df_nov_fea['blue_winrates_avg'] - df_nov_fea['red_winrates_avg']"
   ]
  },
  {
   "cell_type": "code",
   "execution_count": 20,
   "metadata": {},
   "outputs": [],
   "source": [
    "df_nov_fea.to_csv('matchs_features_novembre.csv', index=False)"
   ]
  },
  {
   "cell_type": "markdown",
   "metadata": {
    "id": "LF2LFor3NL_r"
   },
   "source": [
    "Il y a désormais une nouvelle variable 'Red_Won', et les variables de victoires/défaites sont booléennes désormais.\n",
    "On a également ajouté une variable 'avg_win_dif' qui vaut la différence d'average winrate entre deux équipes."
   ]
  }
 ],
 "metadata": {
  "colab": {
   "provenance": []
  },
  "kernelspec": {
   "display_name": "Python 3 (ipykernel)",
   "language": "python",
   "name": "python3"
  },
  "language_info": {
   "codemirror_mode": {
    "name": "ipython",
    "version": 3
   },
   "file_extension": ".py",
   "mimetype": "text/x-python",
   "name": "python",
   "nbconvert_exporter": "python",
   "pygments_lexer": "ipython3",
   "version": "3.9.13"
  }
 },
 "nbformat": 4,
 "nbformat_minor": 4
}
