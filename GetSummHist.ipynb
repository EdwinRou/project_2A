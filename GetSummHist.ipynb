{
 "cells": [
  {
   "cell_type": "code",
   "execution_count": 1,
   "id": "7d230eee",
   "metadata": {},
   "outputs": [],
   "source": [
    "import requests\n",
    "import time\n",
    "import pandas as pd\n",
    "import numpy as np"
   ]
  },
  {
   "cell_type": "code",
   "execution_count": 2,
   "id": "1d79928c-123b-4154-8de3-6b90ab235a7d",
   "metadata": {},
   "outputs": [],
   "source": [
    "api_key = \"RGAPI-22dd4b79-8878-4453-8104-a5f363fa0da6\"\n",
    "region = \"europe\"\n",
    "\n",
    "#On prend les matchs entre le 1er Jan 2022 et le 31 Oct 2022"
   ]
  },
  {
   "cell_type": "code",
   "execution_count": 27,
   "id": "70df4faa-553b-4a92-be6a-75c37dd17af5",
   "metadata": {},
   "outputs": [],
   "source": [
    "account_IDs = pd.read_csv(\"accountPUUID.csv\")\n",
    "account_IDs_list = account_IDs[\"AccountPUUID\"]\n",
    "\n",
    "#La liste des dates : date exacte des débuts et fins de mois en format \"Timestamp\"\n",
    "dates = np.array([[\"Janvier\", [1640995200,1643673599]],[\"Février\", [1643673600,1646092799]],[\"Mars\", [1646092800,1648771199]],\n",
    "         [\"Avril\", [1648771200,1651363199]],[\"Mai\", [1651363200,1654041599]],[\"Juin\", [1654041600,1656633599]],\n",
    "         [\"Juillet\", [1656633600,1659311999]],[\"Aout\", [1659312000,1661990399]],[\"Septembre\", [1661990400,1664582399]],\n",
    "         [\"Octobre\", [1664582400,1667260799]],[\"Novembre\", [1667260800,1669852799]]], dtype=object)\n",
    "\n",
    "# This is the list of MatchIDs we are creating\n",
    "matchID_list = np.empty([len(account_IDs_list),len(dates)], dtype = object)"
   ]
  },
  {
   "cell_type": "code",
   "execution_count": 28,
   "id": "28bafa6a-c865-41f6-b85a-2e1f4ddf3793",
   "metadata": {},
   "outputs": [],
   "source": [
    "def match_ID_puller(puuid,startTime,endTime,mois):\n",
    "\n",
    "    url_match_pull = \"https://{}.api.riotgames.com/lol/match/v5/matches/by-puuid/{}/ids?startTime={}&endTime={}&queue=420\" \\\n",
    "                     \"&type=ranked&start=0&count=100&api_key={}\".format(region, account_IDs_list[puuid], startTime, endTime, api_key)\n",
    "    match_history = requests.get(url_match_pull).json()\n",
    "\n",
    "    try:\n",
    "        matchID_list[puuid][mois] = match_history\n",
    "    except KeyError:\n",
    "        print(match_history)\n",
    "        print(\"KeyError occured with account:\", account_IDs_list[puuid])"
   ]
  },
  {
   "cell_type": "code",
   "execution_count": 35,
   "id": "7ae48952-32ba-48f9-abfe-a1fa0bb4855e",
   "metadata": {},
   "outputs": [],
   "source": [
    "for i in range(len(dates)):\n",
    "    for j in range(len(account_IDs_list)):\n",
    "        match_ID_puller(puuid=j, startTime=1640995200, endTime=1643673599, mois=i)"
   ]
  },
  {
   "cell_type": "code",
   "execution_count": 39,
   "id": "b7fd44ae-7065-4a35-aaf8-8a36dc32f7ca",
   "metadata": {},
   "outputs": [
    {
     "name": "stdout",
     "output_type": "stream",
     "text": [
      "Done pulling matchIDs!\n"
     ]
    }
   ],
   "source": [
    "df = pd.DataFrame(matchID_list, columns=[i[0] for i in dates])\n",
    "df.to_csv('MatchId.csv', mode='x')\n",
    "print(\"Done pulling matchIDs!\")"
   ]
  }
 ],
 "metadata": {
  "kernelspec": {
   "display_name": "Python 3 (ipykernel)",
   "language": "python",
   "name": "python3"
  },
  "language_info": {
   "codemirror_mode": {
    "name": "ipython",
    "version": 3
   },
   "file_extension": ".py",
   "mimetype": "text/x-python",
   "name": "python",
   "nbconvert_exporter": "python",
   "pygments_lexer": "ipython3",
   "version": "3.9.13"
  }
 },
 "nbformat": 4,
 "nbformat_minor": 5
}
