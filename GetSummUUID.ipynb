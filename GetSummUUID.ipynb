{
 "cells": [
  {
   "cell_type": "markdown",
   "id": "e0fc0231-5b64-4ecd-91c0-5ea5d917d13d",
   "metadata": {},
   "source": [
    "Importations des fonctions"
   ]
  },
  {
   "cell_type": "code",
   "execution_count": 2,
   "id": "f3c9e9ff-c569-4edd-b5c7-aeefbaae0d94",
   "metadata": {},
   "outputs": [],
   "source": [
    "import requests\n",
    "import time\n",
    "import pandas as pd"
   ]
  },
  {
   "cell_type": "markdown",
   "id": "4b9956f5-01ea-4624-9d7c-17c95619bf2a",
   "metadata": {},
   "source": [
    "Variables liées à l'API de Riot"
   ]
  },
  {
   "cell_type": "code",
   "execution_count": 3,
   "id": "e6da0696-beae-4a89-8f10-24e3a4819567",
   "metadata": {},
   "outputs": [],
   "source": [
    "api_key = \"RGAPI-22dd4b79-8878-4453-8104-a5f363fa0da6\"\n",
    "region = \"euw1\""
   ]
  },
  {
   "cell_type": "markdown",
   "id": "b1107e0f-3846-4905-bf82-435c00f6ecb2",
   "metadata": {},
   "source": [
    "Les programmes suivant visent à retrouver les puuid des joueurs qui sont des identifiants uniques"
   ]
  },
  {
   "cell_type": "markdown",
   "id": "cd23d66b-ebfe-467b-86a7-46fc2fa03e78",
   "metadata": {},
   "source": [
    "Fonction prenant une page de joueurs (205 joueurs) selon leur Rang, on isole leur ID des informations que l'on récupère que l'on stock dans un fichier csv.\n",
    "Cet ID nous permettra ensuite de récupérer le puuid que l'on cherche."
   ]
  },
  {
   "cell_type": "code",
   "execution_count": 4,
   "id": "2f6465e0-0604-4838-8651-784a1064357e",
   "metadata": {},
   "outputs": [],
   "source": [
    "def summ_ID_puller(division, tier, page):\n",
    "\n",
    "    url_pull = \"https://{}.api.riotgames.com/lol/league/v4/entries/RANKED_SOLO_5x5/{}/{}?page={}&api_key={}\".format(\n",
    "        region, division, tier, page, api_key)\n",
    "    profile_list = requests.get(url_pull).json()\n",
    "    num_profiles = len(profile_list)\n",
    "    summID_list = []\n",
    "\n",
    "    for profile in range(0, num_profiles):\n",
    "        summID_list.append(profile_list[profile]['summonerId'])\n",
    "\n",
    "    df = pd.DataFrame(summID_list, columns=[\"Summoner ID\"])\n",
    "    df.to_csv('summID.csv', mode='a')"
   ]
  },
  {
   "cell_type": "markdown",
   "id": "0fa83dfc-3e1d-46a5-b95c-3292ad552990",
   "metadata": {},
   "source": [
    "Boucle appliquant la fonction précédante pour 20 pages d'IDs et pour tous les joueurs Diamants"
   ]
  },
  {
   "cell_type": "code",
   "execution_count": 5,
   "id": "ae53cdd7-d416-4fc2-aa8f-177307dfc0ee",
   "metadata": {},
   "outputs": [
    {
     "ename": "KeyboardInterrupt",
     "evalue": "",
     "output_type": "error",
     "traceback": [
      "\u001b[1;31m---------------------------------------------------------------------------\u001b[0m",
      "\u001b[1;31mKeyboardInterrupt\u001b[0m                         Traceback (most recent call last)",
      "\u001b[1;32m~\\AppData\\Local\\Temp\\ipykernel_16180\\4241918262.py\u001b[0m in \u001b[0;36m<module>\u001b[1;34m\u001b[0m\n\u001b[0;32m      1\u001b[0m \u001b[1;32mfor\u001b[0m \u001b[0mtier\u001b[0m \u001b[1;32min\u001b[0m \u001b[1;33m[\u001b[0m\u001b[1;34m\"I\"\u001b[0m\u001b[1;33m,\u001b[0m \u001b[1;34m\"II\"\u001b[0m\u001b[1;33m,\u001b[0m \u001b[1;34m\"III\"\u001b[0m\u001b[1;33m,\u001b[0m \u001b[1;34m\"IV\"\u001b[0m\u001b[1;33m]\u001b[0m\u001b[1;33m:\u001b[0m\u001b[1;33m\u001b[0m\u001b[1;33m\u001b[0m\u001b[0m\n\u001b[0;32m      2\u001b[0m     \u001b[1;32mfor\u001b[0m \u001b[0mpage\u001b[0m \u001b[1;32min\u001b[0m \u001b[0mrange\u001b[0m\u001b[1;33m(\u001b[0m\u001b[1;36m1\u001b[0m\u001b[1;33m,\u001b[0m \u001b[1;36m20\u001b[0m\u001b[1;33m)\u001b[0m\u001b[1;33m:\u001b[0m\u001b[1;33m\u001b[0m\u001b[1;33m\u001b[0m\u001b[0m\n\u001b[1;32m----> 3\u001b[1;33m         \u001b[0mtime\u001b[0m\u001b[1;33m.\u001b[0m\u001b[0msleep\u001b[0m\u001b[1;33m(\u001b[0m\u001b[1;36m1.5\u001b[0m\u001b[1;33m)\u001b[0m\u001b[1;33m\u001b[0m\u001b[1;33m\u001b[0m\u001b[0m\n\u001b[0m\u001b[0;32m      4\u001b[0m         \u001b[0msumm_ID_puller\u001b[0m\u001b[1;33m(\u001b[0m\u001b[1;34m\"DIAMOND\"\u001b[0m\u001b[1;33m,\u001b[0m \u001b[0mtier\u001b[0m\u001b[1;33m,\u001b[0m \u001b[0mpage\u001b[0m\u001b[1;33m)\u001b[0m\u001b[1;33m\u001b[0m\u001b[1;33m\u001b[0m\u001b[0m\n",
      "\u001b[1;31mKeyboardInterrupt\u001b[0m: "
     ]
    }
   ],
   "source": [
    "for tier in [\"I\", \"II\", \"III\", \"IV\"]:\n",
    "    for page in range(1, 20):\n",
    "        time.sleep(1)\n",
    "        summ_ID_puller(\"DIAMOND\", tier, page)"
   ]
  },
  {
   "cell_type": "markdown",
   "id": "dab3e39c-32aa-44fd-a37b-8d3d9d3aefe5",
   "metadata": {},
   "source": [
    "Programme visant à stocker les puuid des joueurs (identifiant unique permettant de retrouver l'historique des joueurs plus tard)"
   ]
  },
  {
   "cell_type": "markdown",
   "id": "702ace39-64d0-4c86-93f7-e43b5f530c07",
   "metadata": {},
   "source": [
    "Préparation des variables utiles"
   ]
  },
  {
   "cell_type": "code",
   "execution_count": 12,
   "id": "4de1c781-71f9-40d2-af4a-54e9eb1a67c8",
   "metadata": {},
   "outputs": [],
   "source": [
    "summoner_IDs = pd.read_csv(\"summID.csv\")\n",
    "accountID_list = []\n",
    "summID_list = summoner_IDs[\"Summoner ID\"]"
   ]
  },
  {
   "cell_type": "markdown",
   "id": "c2cd5170-7f6b-4c8d-a6eb-85ef7fb7da91",
   "metadata": {},
   "source": [
    "Fonction récupérant l'puuid d'un joueur à partir de son ID"
   ]
  },
  {
   "cell_type": "code",
   "execution_count": 8,
   "id": "ddf4c5c4-8957-4d09-8797-a84ed436267e",
   "metadata": {},
   "outputs": [],
   "source": [
    "def acct_ID_puller(summID):\n",
    "    url_acct_pull = \"https://{}.api.riotgames.com/lol/summoner/v4/summoners/{}?api_key={}\".format(\n",
    "        region, summID, api_key)\n",
    "    account_info = requests.get(url_acct_pull).json()\n",
    "    accountID_list.append(account_info[\"puuid\"])"
   ]
  },
  {
   "cell_type": "markdown",
   "id": "e20c15a6-6e97-4933-bb3c-eff5b57ea49d",
   "metadata": {},
   "source": [
    "On applique la fonction précedente sur notre liste d'IDs de joueurs afin de récupérer leur puuid."
   ]
  },
  {
   "cell_type": "code",
   "execution_count": 13,
   "id": "c529c5ab-78bf-4b0b-a3d7-0042fd332b52",
   "metadata": {},
   "outputs": [],
   "source": [
    "for summID_idx in range(0, 10):\n",
    "    time.sleep(1)\n",
    "    if summID_list[summID_idx] == \"Summoner ID\":\n",
    "        pass\n",
    "    else:\n",
    "        try:\n",
    "            acct_ID_puller(summID_list[summID_idx])\n",
    "        except KeyError:\n",
    "            print(\"keyerror\")"
   ]
  },
  {
   "cell_type": "markdown",
   "id": "fff0686d-d32e-4363-9a44-975a1919f199",
   "metadata": {},
   "source": [
    "On transforme tout ça en DataFrame et on le stock séparément dans un fichier csv."
   ]
  },
  {
   "cell_type": "code",
   "execution_count": 14,
   "id": "c4dc2bbf-91f9-43d0-919b-4f916bb0fdb0",
   "metadata": {},
   "outputs": [],
   "source": [
    "df = pd.DataFrame(accountID_list, columns=[\"AccountPUUID\"])\n",
    "df.to_csv('accountPUUId.csv', mode='x')"
   ]
  }
 ],
 "metadata": {
  "kernelspec": {
   "display_name": "Python 3 (ipykernel)",
   "language": "python",
   "name": "python3"
  },
  "language_info": {
   "codemirror_mode": {
    "name": "ipython",
    "version": 3
   },
   "file_extension": ".py",
   "mimetype": "text/x-python",
   "name": "python",
   "nbconvert_exporter": "python",
   "pygments_lexer": "ipython3",
   "version": "3.9.13"
  }
 },
 "nbformat": 4,
 "nbformat_minor": 5
}
