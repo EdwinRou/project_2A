{
 "cells": [
  {
   "cell_type": "markdown",
   "id": "634ec9a8-5d2a-43b2-a1e2-311cd1273b2a",
   "metadata": {
    "tags": []
   },
   "source": [
    "# Prédiction du résultat d'une partie dans un jeu compétitif"
   ]
  },
  {
   "cell_type": "markdown",
   "id": "250e4ac1-564b-47c9-887d-03107546bb10",
   "metadata": {},
   "source": [
    "## Introduction"
   ]
  },
  {
   "cell_type": "markdown",
   "id": "0c25ab28-2ca8-4b4f-b999-0492d6a3b473",
   "metadata": {},
   "source": [
    "Dans tout jeu compétitif, que ce soit dans le sport ou dans les jeux-vidéos, on aimerait pouvoir prédire qui sera le vainqueur avant même le début de l'affrontement à partir des différentes caractéristiques des joueurs. Dans la plupart des jeux-vidéos, on a justement accès à ces informations sur les joueurs."
   ]
  },
  {
   "cell_type": "markdown",
   "id": "3b1f6f65-55bb-48b0-8e99-2469010176d5",
   "metadata": {},
   "source": [
    "L'objectif de notre projet est alors de déterminer **quelles caractéristiques permettent de prédire le résultat d'une partie sur League of Legends**."
   ]
  },
  {
   "cell_type": "markdown",
   "id": "1d2f3fdc-2ad3-4a32-90e3-697a7db2c9d5",
   "metadata": {},
   "source": [
    "Pour décrire simplement League of Legends, c'est un jeu qui se joue en 5 contre 5 où le but est de détruire la base ennemie. Pour cela chaque joueur incarne un *champion* qui le personnage qu'il joue durant la partie et qu'il peut choisir parmi plus de 140 champions avant le début de chaque partie."
   ]
  },
  {
   "cell_type": "markdown",
   "id": "0947a22f-10c3-40c1-aa18-2e206cc77bc0",
   "metadata": {},
   "source": [
    "Un aspect qui a motivé notre choix de sujet est que League of Legends est aujourd'hui le jeu le plus populaire au monde, il dispose par conséquent d'une base de données très importante et qui se trouve aussi être libre et facile d'accès."
   ]
  },
  {
   "cell_type": "markdown",
   "id": "751b689f-af74-42fc-ab9f-d01939575fa7",
   "metadata": {},
   "source": [
    "### Importation des modules utiles"
   ]
  },
  {
   "cell_type": "code",
   "execution_count": 5,
   "id": "b9355d0c-688b-400c-afc8-be550e03f094",
   "metadata": {},
   "outputs": [],
   "source": [
    "import requests\n",
    "import time\n",
    "import pandas as pd\n",
    "import numpy as np"
   ]
  },
  {
   "cell_type": "markdown",
   "id": "655d03be-613b-485a-b961-00c23f53357f",
   "metadata": {},
   "source": [
    "## I - Création de la base de données"
   ]
  },
  {
   "cell_type": "markdown",
   "id": "c7427c7e-f21b-4b39-856f-a05d6459705f",
   "metadata": {},
   "source": [
    "Pour notre projet, nous avons décidé de créer notre propre base de données, les raisons sont les suivantes :"
   ]
  },
  {
   "cell_type": "markdown",
   "id": "1d9f713b-cb17-4bef-bead-964a115886d4",
   "metadata": {},
   "source": [
    "Premièrement, les bases de données trouvables sur internet sont souvent lacunaires, et bien qu'il est possible de les compléter, elles datent aussi souvent de périodes différentes, portent sur des joueurs et des parties différentes. Si l'on souhaite avoir une base riche et complète, il est alors beaucoup plus rapide et simple de créer notre propre base."
   ]
  },
  {
   "cell_type": "markdown",
   "id": "0f8592a6-178a-4ca6-b36e-b409d9ec7efa",
   "metadata": {},
   "source": [
    "Deuxièment, l'API de Riot (développeur de League of Legends) est bien organisée, et relativement facile à prendre en main."
   ]
  },
  {
   "cell_type": "markdown",
   "id": "fefa46e6-d459-4d5d-9c4f-354e05812caa",
   "metadata": {},
   "source": [
    "Dernièrement, il existe aujourd'hui de nombreux sites qui utilisent l'API de Riot et qui ont créé leur propre base de données à partir de celle-ci. On a donc pu réaliser du scraping pour compléter notre base de données."
   ]
  },
  {
   "cell_type": "markdown",
   "id": "15a00e32-0be0-4cda-8e55-801b98a76e53",
   "metadata": {},
   "source": [
    "La création de notre base de données se divise alors en deux parties, la création d'une base de données avec un grand nombre de parties via l'API de Riot, puis la complétion de cette base via du scrapping sur les sites https://www.leagueofgraphs.com/fr/ et https://www.op.gg/."
   ]
  },
  {
   "cell_type": "markdown",
   "id": "9f770f36-f942-4805-bcc1-2b6b3e4600c1",
   "metadata": {
    "tags": []
   },
   "source": [
    "### A - Récupération d'une base de parties via l'API"
   ]
  },
  {
   "cell_type": "markdown",
   "id": "d0a59607-a714-4a55-93c1-481ebd859444",
   "metadata": {
    "tags": []
   },
   "source": [
    "Vous trouverez dans le NoteBook GameData les programmes relatifs à la mise en place de notre base de données et l'utilisation de l'API. https://github.com/EdwinRou/project_2A/blob/5183f5c61a7a4e9764b8ca710f15fe3699ebd781/RiotAPI/GameData.ipynb"
   ]
  },
  {
   "cell_type": "markdown",
   "id": "8b1b7360-11f3-4247-8616-afa95a901bc9",
   "metadata": {},
   "source": [
    "### B  - Scraping des données complémentaires"
   ]
  },
  {
   "cell_type": "markdown",
   "id": "d1b5eade-ff74-463c-bcd9-b4fbdc4d8311",
   "metadata": {},
   "source": []
  },
  {
   "cell_type": "markdown",
   "id": "cbefc1d8-82c8-4d8b-8802-5c29812aeb56",
   "metadata": {},
   "source": []
  },
  {
   "cell_type": "markdown",
   "id": "191b60de-bf32-4744-955c-85b7405f3d11",
   "metadata": {},
   "source": [
    "## II - Analyse descriptive"
   ]
  },
  {
   "cell_type": "markdown",
   "id": "238c4a4f-d3b8-4e42-849c-386b9cc461ba",
   "metadata": {},
   "source": []
  },
  {
   "cell_type": "markdown",
   "id": "8b0b7126-ec82-4df4-b124-b480023ccda2",
   "metadata": {},
   "source": [
    "## III - Détermination des caractéristiques prépondérentes dans la victoire"
   ]
  },
  {
   "cell_type": "markdown",
   "id": "082bcf57-e577-4b73-b73c-73c034ae8ac3",
   "metadata": {},
   "source": []
  }
 ],
 "metadata": {
  "kernelspec": {
   "display_name": "Python 3 (ipykernel)",
   "language": "python",
   "name": "python3"
  },
  "language_info": {
   "codemirror_mode": {
    "name": "ipython",
    "version": 3
   },
   "file_extension": ".py",
   "mimetype": "text/x-python",
   "name": "python",
   "nbconvert_exporter": "python",
   "pygments_lexer": "ipython3",
   "version": "3.9.13"
  }
 },
 "nbformat": 4,
 "nbformat_minor": 5
}
