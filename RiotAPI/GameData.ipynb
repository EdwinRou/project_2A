{
 "cells": [
  {
   "cell_type": "markdown",
   "id": "c8678f1e-baf6-4c3e-9022-9e9c3cc6580c",
   "metadata": {},
   "source": [
    "# Récupération d'une base de parties via l'API"
   ]
  },
  {
   "cell_type": "markdown",
   "id": "1b90350f-8b82-4227-801c-10c5a0c6e2e6",
   "metadata": {},
   "source": [
    "*Remarque : Des fichiers csv vont être créés au fur et mesure en utilisant nos programmes et ils seront nécessaires pour que les programmes suivants puissent fonctionner*"
   ]
  },
  {
   "cell_type": "markdown",
   "id": "7b888057-e55f-4db4-a901-c5ded9a837bd",
   "metadata": {},
   "source": [
    "### Étape 1 : Obtention du summonerId des joueurs classés diamant dans le mode compétitif de League of Legends"
   ]
  },
  {
   "cell_type": "markdown",
   "id": "5204c6d8-8e47-4947-b69c-bfbc330719b4",
   "metadata": {},
   "source": [
    "Il est nécessaire d'avoir un ***api_key*** pour envoyer utiliser l'API de Riot, cependant cet ***api_key expire après 24h***, ainsi pour faire tourner nos programmes, il est necessaire de l'actualiser, auquel cas l'erreur *key_error* sera renvoyée. Pour cela, il faut se rendre sur le site https://developer.riotgames.com/. Cependant pour pouvoir l'utiliser il faut s'identifier sur la plateforme, suite à quoi on pourra récupérer notre *api_key*."
   ]
  },
  {
   "cell_type": "code",
   "execution_count": 1,
   "id": "8c02d9f5-eb5f-4acc-9adf-048d9d7ff5e0",
   "metadata": {},
   "outputs": [],
   "source": [
    "#Entrez votre api_key actualisé, ou envoyez nous un mail si vous voulez que l'on vous en envoie un opérationnel:\n",
    "api_key = \"RGAPI-cdee5bdb-9d85-46ae-a324-4ebaca02da63\""
   ]
  },
  {
   "cell_type": "markdown",
   "id": "64f1308f-b292-42d1-80a3-d25629a77a5a",
   "metadata": {},
   "source": [
    "Aussi, on ne peut uniquement réaliser que 20 requêtes par seconde et 100 requêtes toutes les 2 minutes."
   ]
  },
  {
   "cell_type": "markdown",
   "id": "fc5b3b16-2faa-4812-9e14-038ae479cf79",
   "metadata": {},
   "source": [
    "L'API de LoL nous permet de récupérer le ***summonerId*** des joueurs d'un certain rang (ici on s'intéresse aux joueurs de rang diamant) : https://developer.riotgames.com/apis#league-exp-v4/GET_getLeagueEntries."
   ]
  },
  {
   "cell_type": "markdown",
   "id": "bd675720-eb6e-45f1-8f50-384eae840e0d",
   "metadata": {},
   "source": [
    "*Le programme suivant met une quinzaine de secondes à s'executer*"
   ]
  },
  {
   "cell_type": "code",
   "execution_count": 2,
   "id": "c6c951d7-dd17-48e7-9128-b02e14f924fc",
   "metadata": {},
   "outputs": [],
   "source": [
    "from summIdExtractor import summ_ID_puller\n",
    "summ_ID_puller(api_key)"
   ]
  },
  {
   "cell_type": "code",
   "execution_count": 28,
   "id": "822aaffb-bff4-4b0b-8f88-9fd68c8077fa",
   "metadata": {},
   "outputs": [
    {
     "data": {
      "text/html": [
       "<div>\n",
       "<style scoped>\n",
       "    .dataframe tbody tr th:only-of-type {\n",
       "        vertical-align: middle;\n",
       "    }\n",
       "\n",
       "    .dataframe tbody tr th {\n",
       "        vertical-align: top;\n",
       "    }\n",
       "\n",
       "    .dataframe thead th {\n",
       "        text-align: right;\n",
       "    }\n",
       "</style>\n",
       "<table border=\"1\" class=\"dataframe\">\n",
       "  <thead>\n",
       "    <tr style=\"text-align: right;\">\n",
       "      <th></th>\n",
       "      <th>Summoner ID</th>\n",
       "    </tr>\n",
       "  </thead>\n",
       "  <tbody>\n",
       "    <tr>\n",
       "      <th>0.0</th>\n",
       "      <td>zcIDc81ls-pmJFCUO6acjPLtzO3G0mHBDb-FQMO-HZ1lM8Ra</td>\n",
       "    </tr>\n",
       "    <tr>\n",
       "      <th>1.0</th>\n",
       "      <td>nRHMygxa16fFUqgsgyvW6vmBSyaXtEis0avFIrMFFPt0lF0W</td>\n",
       "    </tr>\n",
       "    <tr>\n",
       "      <th>2.0</th>\n",
       "      <td>HHKp0lulBgCTuX_Yj5wR4LoFq97CUuiB0ss45oz0J9vHWO-v</td>\n",
       "    </tr>\n",
       "  </tbody>\n",
       "</table>\n",
       "</div>"
      ],
      "text/plain": [
       "                                          Summoner ID\n",
       "0.0  zcIDc81ls-pmJFCUO6acjPLtzO3G0mHBDb-FQMO-HZ1lM8Ra\n",
       "1.0  nRHMygxa16fFUqgsgyvW6vmBSyaXtEis0avFIrMFFPt0lF0W\n",
       "2.0  HHKp0lulBgCTuX_Yj5wR4LoFq97CUuiB0ss45oz0J9vHWO-v"
      ]
     },
     "execution_count": 28,
     "metadata": {},
     "output_type": "execute_result"
    }
   ],
   "source": [
    "pd.read_csv('summID.csv', index_col = 0).head(3)"
   ]
  },
  {
   "cell_type": "markdown",
   "id": "fb406b7a-fc18-4d74-a5d0-5acfe2a64328",
   "metadata": {},
   "source": [
    "Avec la boucle ci-dessus, nous avons stocké sous forme de fichier csv plus de 15000 identifiants de joueurs."
   ]
  },
  {
   "cell_type": "markdown",
   "id": "a728496d-665d-4cb4-baa6-9a3a5cda8ef9",
   "metadata": {},
   "source": [
    "Cependant, comme dit plus tôt, on ne peut réaliser que 20 requêtes toutes par seconde, on applique donc un temps de pause entre chaque ittération de notre boucle."
   ]
  },
  {
   "cell_type": "markdown",
   "id": "3d89fc10-5db6-458c-bdc5-6f7cb3fb7b1f",
   "metadata": {},
   "source": [
    "Nous avons maintenant une liste des summonerId de nombreux joueurs, on va maintenant chercher à obtenir leur historique pour avoir une base de données de parties jouées, base sur laquelle on va travailler au cours de ce projet. Cepdandant, pour accéder à l'historique des parties, l'API de Riot requière un autre identifiant unique aux joueurs, le PUUID, ce que nous allons à présent récupérer."
   ]
  },
  {
   "cell_type": "markdown",
   "id": "ed70c053-4ec2-42d8-988b-323fe132afb3",
   "metadata": {},
   "source": [
    "### Étape 2 : Convertir les summonerId en PUUID"
   ]
  },
  {
   "cell_type": "markdown",
   "id": "848be23e-2d08-4fd3-8aca-e839b12ae06c",
   "metadata": {},
   "source": [
    "*Essayez d'attendre 2 minutes après l'utilisation du programme précedent car les 100 requêtes disponibles on déjà été utilisées*"
   ]
  },
  {
   "cell_type": "markdown",
   "id": "b2ea646a-e9e9-4ef5-9a36-6d3af8a847ad",
   "metadata": {},
   "source": [
    "Avec ce programme, on ne récupère que les PUUID des 100 premières personnes de ma liste précedente. En effet, lorsque nous allons chercher à récupérer l'historique de nos joueurs plus tard, nous allons voir que le nombre de requêtes vers l'API va rapidement augmenter et les temps d'executions atteindront plusieurs heures."
   ]
  },
  {
   "cell_type": "markdown",
   "id": "17ed4476-0901-442b-a045-9858bae5e935",
   "metadata": {},
   "source": [
    "*Le programme suivant met une quinzaine de secondes à s'executer*"
   ]
  },
  {
   "cell_type": "code",
   "execution_count": null,
   "id": "d0a57bac-c1e1-4d5a-88fb-794cf4d449af",
   "metadata": {},
   "outputs": [],
   "source": [
    "from puuidConvertor import acct_ID_puller\n",
    "accountID_list = acct_ID_puller(api_key)"
   ]
  },
  {
   "cell_type": "code",
   "execution_count": null,
   "id": "49ec7bea-9af4-4fe7-8d3b-9cf96b36aa25",
   "metadata": {},
   "outputs": [],
   "source": [
    "df = pd.DataFrame(accountID_list, columns=[\"AccountPUUID\"])\n",
    "df.to_csv('accountPUUID.csv', mode='x')"
   ]
  },
  {
   "cell_type": "code",
   "execution_count": 24,
   "id": "eb47b996-12d1-4ea2-b937-202e5e84be0d",
   "metadata": {},
   "outputs": [
    {
     "data": {
      "text/html": [
       "<div>\n",
       "<style scoped>\n",
       "    .dataframe tbody tr th:only-of-type {\n",
       "        vertical-align: middle;\n",
       "    }\n",
       "\n",
       "    .dataframe tbody tr th {\n",
       "        vertical-align: top;\n",
       "    }\n",
       "\n",
       "    .dataframe thead th {\n",
       "        text-align: right;\n",
       "    }\n",
       "</style>\n",
       "<table border=\"1\" class=\"dataframe\">\n",
       "  <thead>\n",
       "    <tr style=\"text-align: right;\">\n",
       "      <th></th>\n",
       "      <th>AccountPUUID</th>\n",
       "    </tr>\n",
       "  </thead>\n",
       "  <tbody>\n",
       "    <tr>\n",
       "      <th>0</th>\n",
       "      <td>XFhANjotWKg0W6cbFgevEEfMffiNggo8Ibef4ics8gUzMk...</td>\n",
       "    </tr>\n",
       "    <tr>\n",
       "      <th>1</th>\n",
       "      <td>EQNlOi64ynjI6NzBs6rHPKl95ssmPaE_MsiS_-aQkJPeiA...</td>\n",
       "    </tr>\n",
       "    <tr>\n",
       "      <th>2</th>\n",
       "      <td>AOxaU0kXvA45iYOMk2iibcqYlzMQk1KNOUpmr119HDJEYw...</td>\n",
       "    </tr>\n",
       "  </tbody>\n",
       "</table>\n",
       "</div>"
      ],
      "text/plain": [
       "                                        AccountPUUID\n",
       "0  XFhANjotWKg0W6cbFgevEEfMffiNggo8Ibef4ics8gUzMk...\n",
       "1  EQNlOi64ynjI6NzBs6rHPKl95ssmPaE_MsiS_-aQkJPeiA...\n",
       "2  AOxaU0kXvA45iYOMk2iibcqYlzMQk1KNOUpmr119HDJEYw..."
      ]
     },
     "execution_count": 24,
     "metadata": {},
     "output_type": "execute_result"
    }
   ],
   "source": [
    "pd.read_csv('accountPUUID.csv',index_col = 0).head(3)"
   ]
  },
  {
   "cell_type": "markdown",
   "id": "03fb2f86-735e-4d37-9b12-46538d9996c7",
   "metadata": {},
   "source": [
    "### Étape 3 : Récupération de l'ID de matchs\""
   ]
  },
  {
   "cell_type": "markdown",
   "id": "32461532-668d-468d-9737-57ef37b0c054",
   "metadata": {},
   "source": [
    "A présent nous allons commencer à nous créer une base de données de parties. Dans un premier temps, pour chaque joueur de notre base, nous allons récupérer son historique de partie sous la forme d'une liste d'ID avec laquelle on pourra dans un second temps obtenir les données de parties."
   ]
  },
  {
   "cell_type": "code",
   "execution_count": null,
   "id": "6e4dae22-c26e-43a5-9a10-b4ddfdbd0672",
   "metadata": {},
   "outputs": [],
   "source": [
    "from gameIdExtractor import match_ID_puller\n",
    "df_gameId = match_ID_puller(api_key)"
   ]
  },
  {
   "cell_type": "code",
   "execution_count": null,
   "id": "9e52238f-a92a-4ff8-a715-3d1db7180fbf",
   "metadata": {},
   "outputs": [],
   "source": [
    "df_gameId.to_csv('MatchId.csv', mode='x')"
   ]
  },
  {
   "cell_type": "code",
   "execution_count": 21,
   "id": "51529fe6-2553-48a6-bbae-da43e124a3b7",
   "metadata": {},
   "outputs": [
    {
     "data": {
      "text/html": [
       "<div>\n",
       "<style scoped>\n",
       "    .dataframe tbody tr th:only-of-type {\n",
       "        vertical-align: middle;\n",
       "    }\n",
       "\n",
       "    .dataframe tbody tr th {\n",
       "        vertical-align: top;\n",
       "    }\n",
       "\n",
       "    .dataframe thead th {\n",
       "        text-align: right;\n",
       "    }\n",
       "</style>\n",
       "<table border=\"1\" class=\"dataframe\">\n",
       "  <thead>\n",
       "    <tr style=\"text-align: right;\">\n",
       "      <th></th>\n",
       "      <th>Janvier</th>\n",
       "      <th>Février</th>\n",
       "      <th>Mars</th>\n",
       "      <th>Avril</th>\n",
       "      <th>Mai</th>\n",
       "      <th>Juin</th>\n",
       "      <th>Juillet</th>\n",
       "      <th>Aout</th>\n",
       "      <th>Septembre</th>\n",
       "      <th>Octobre</th>\n",
       "      <th>Novembre</th>\n",
       "    </tr>\n",
       "  </thead>\n",
       "  <tbody>\n",
       "    <tr>\n",
       "      <th>0</th>\n",
       "      <td>EUW1_5697047365</td>\n",
       "      <td>EUW1_5747768505</td>\n",
       "      <td>EUW1_5797885608</td>\n",
       "      <td>EUW1_5832114947</td>\n",
       "      <td>EUW1_5893371604</td>\n",
       "      <td>EUW1_5946522890</td>\n",
       "      <td>EUW1_5954168607</td>\n",
       "      <td>EUW1_6032966424</td>\n",
       "      <td>EUW1_6084406916</td>\n",
       "      <td>EUW1_6112441706</td>\n",
       "      <td>EUW1_6137136125</td>\n",
       "    </tr>\n",
       "    <tr>\n",
       "      <th>1</th>\n",
       "      <td>EUW1_5691273837</td>\n",
       "      <td>EUW1_5724403495</td>\n",
       "      <td>EUW1_5797790240</td>\n",
       "      <td>EUW1_5832005330</td>\n",
       "      <td>EUW1_5893285573</td>\n",
       "      <td>EUW1_5946440329</td>\n",
       "      <td>EUW1_5954221246</td>\n",
       "      <td>EUW1_6032881787</td>\n",
       "      <td>EUW1_6084349783</td>\n",
       "      <td>EUW1_6122839121</td>\n",
       "      <td>EUW1_6137090066</td>\n",
       "    </tr>\n",
       "    <tr>\n",
       "      <th>2</th>\n",
       "      <td>EUW1_5691127938</td>\n",
       "      <td>EUW1_5710233832</td>\n",
       "      <td>EUW1_5797830988</td>\n",
       "      <td>EUW1_5831830238</td>\n",
       "      <td>EUW1_5893210267</td>\n",
       "      <td>EUW1_5945206205</td>\n",
       "      <td>EUW1_5954127808</td>\n",
       "      <td>EUW1_6031429345</td>\n",
       "      <td>EUW1_6083012143</td>\n",
       "      <td>EUW1_6122825786</td>\n",
       "      <td>EUW1_6137045074</td>\n",
       "    </tr>\n",
       "  </tbody>\n",
       "</table>\n",
       "</div>"
      ],
      "text/plain": [
       "           Janvier          Février             Mars            Avril  \\\n",
       "0  EUW1_5697047365  EUW1_5747768505  EUW1_5797885608  EUW1_5832114947   \n",
       "1  EUW1_5691273837  EUW1_5724403495  EUW1_5797790240  EUW1_5832005330   \n",
       "2  EUW1_5691127938  EUW1_5710233832  EUW1_5797830988  EUW1_5831830238   \n",
       "\n",
       "               Mai             Juin          Juillet             Aout  \\\n",
       "0  EUW1_5893371604  EUW1_5946522890  EUW1_5954168607  EUW1_6032966424   \n",
       "1  EUW1_5893285573  EUW1_5946440329  EUW1_5954221246  EUW1_6032881787   \n",
       "2  EUW1_5893210267  EUW1_5945206205  EUW1_5954127808  EUW1_6031429345   \n",
       "\n",
       "         Septembre          Octobre         Novembre  \n",
       "0  EUW1_6084406916  EUW1_6112441706  EUW1_6137136125  \n",
       "1  EUW1_6084349783  EUW1_6122839121  EUW1_6137090066  \n",
       "2  EUW1_6083012143  EUW1_6122825786  EUW1_6137045074  "
      ]
     },
     "execution_count": 21,
     "metadata": {},
     "output_type": "execute_result"
    }
   ],
   "source": [
    "pd.read_csv('MatchId.csv',index_col = 0).head(3)"
   ]
  },
  {
   "cell_type": "markdown",
   "id": "f195b77f-30c9-4ff5-b86f-e88be73b5c9b",
   "metadata": {},
   "source": [
    "### Étape 4 : Mise en place de la base de données"
   ]
  },
  {
   "cell_type": "markdown",
   "id": "071613be-dd7d-4ade-8a17-9219eb9f41ee",
   "metadata": {},
   "source": [
    "Enfin, on commence à mettre en place la base de données qui sera ensuite complétée avec du scraping."
   ]
  },
  {
   "cell_type": "markdown",
   "id": "2d8b5481-1404-4c47-a584-ace143f7ed2b",
   "metadata": {},
   "source": [
    "Dans un premier temps, on retire les informations suivantes : les *pseudos* des joueurs dans chaque partie, le *champion* qu'ils jouent, et l'équipe qui remporte la partie."
   ]
  },
  {
   "cell_type": "code",
   "execution_count": 4,
   "id": "a9407ee5-6ae1-430f-88ed-340a306466eb",
   "metadata": {},
   "outputs": [],
   "source": [
    "from gameData import *"
   ]
  },
  {
   "cell_type": "markdown",
   "id": "04483f63-b9bc-444f-93f5-0bb331329af9",
   "metadata": {},
   "source": [
    "**La cellule suivants requièrent un temps d'executions de 5h à 9h**"
   ]
  },
  {
   "cell_type": "code",
   "execution_count": null,
   "id": "8fc93873-363c-476a-aa46-e68443d5e77f",
   "metadata": {},
   "outputs": [],
   "source": [
    "nb_parties = pd.read_csv(\"MatchId.csv\").shape[0]\n",
    "df_oct = match_data_oct(nb_parties)\n",
    "df_nov = match_data_nov(nb_parties)"
   ]
  },
  {
   "cell_type": "markdown",
   "id": "9cebaf53-d0e0-41b5-893c-a94b45e07b00",
   "metadata": {},
   "source": [
    "On obtient alors des tableaux dans le format suivant"
   ]
  },
  {
   "cell_type": "code",
   "execution_count": 22,
   "id": "002d0f14-2aee-465c-8532-fd31a7681e74",
   "metadata": {
    "tags": []
   },
   "outputs": [
    {
     "data": {
      "text/html": [
       "<div>\n",
       "<style scoped>\n",
       "    .dataframe tbody tr th:only-of-type {\n",
       "        vertical-align: middle;\n",
       "    }\n",
       "\n",
       "    .dataframe tbody tr th {\n",
       "        vertical-align: top;\n",
       "    }\n",
       "\n",
       "    .dataframe thead th {\n",
       "        text-align: right;\n",
       "    }\n",
       "</style>\n",
       "<table border=\"1\" class=\"dataframe\">\n",
       "  <thead>\n",
       "    <tr style=\"text-align: right;\">\n",
       "      <th></th>\n",
       "      <th>Blue Top</th>\n",
       "      <th>Blue Jungle</th>\n",
       "      <th>Blue Mid</th>\n",
       "      <th>Blue Carry</th>\n",
       "      <th>Blue Support</th>\n",
       "      <th>Red Top</th>\n",
       "      <th>Red Jungle</th>\n",
       "      <th>Red Mid</th>\n",
       "      <th>Red Carry</th>\n",
       "      <th>Red Support</th>\n",
       "      <th>Outcome</th>\n",
       "    </tr>\n",
       "  </thead>\n",
       "  <tbody>\n",
       "    <tr>\n",
       "      <th>0</th>\n",
       "      <td>[TripleBen, Nasus]</td>\n",
       "      <td>[Dark Memer, Zac]</td>\n",
       "      <td>[CroKette, Lux]</td>\n",
       "      <td>[ŃIRVANA, Kaisa]</td>\n",
       "      <td>[Bioniks1, Soraka]</td>\n",
       "      <td>[monkaS, Gangplank]</td>\n",
       "      <td>[N0EQUAL, Rengar]</td>\n",
       "      <td>[CG Kinneke, Yasuo]</td>\n",
       "      <td>[Bendåx, Ashe]</td>\n",
       "      <td>[Jonperi, Maokai]</td>\n",
       "      <td>Victoire des Rouges</td>\n",
       "    </tr>\n",
       "    <tr>\n",
       "      <th>1</th>\n",
       "      <td>[but ok, Viego]</td>\n",
       "      <td>[Kanuera, Khazix]</td>\n",
       "      <td>[Meep Enjooyer, Viktor]</td>\n",
       "      <td>[tjfgx, Twitch]</td>\n",
       "      <td>[Vaati73, Yuumi]</td>\n",
       "      <td>[Lewite, Vayne]</td>\n",
       "      <td>[raymmondd, Nidalee]</td>\n",
       "      <td>[tuctuc1, Akali]</td>\n",
       "      <td>[qfxnhfzkl, Ezreal]</td>\n",
       "      <td>[Bingu, Thresh]</td>\n",
       "      <td>Victoire des Bleus</td>\n",
       "    </tr>\n",
       "    <tr>\n",
       "      <th>2</th>\n",
       "      <td>[Lewite, Vayne]</td>\n",
       "      <td>[Lundqvistt, Volibear]</td>\n",
       "      <td>[Chieurdepatate, Swain]</td>\n",
       "      <td>[qfxnhfzkl, Twitch]</td>\n",
       "      <td>[spray em 50, Amumu]</td>\n",
       "      <td>[Sk8 The Infinity, Sejuani]</td>\n",
       "      <td>[ChemtrailsOverUs, Singed]</td>\n",
       "      <td>[Sekoiya, Yasuo]</td>\n",
       "      <td>[juicy ladyboy, Jinx]</td>\n",
       "      <td>[lοve too hard, Lulu]</td>\n",
       "      <td>Victoire des Bleus</td>\n",
       "    </tr>\n",
       "  </tbody>\n",
       "</table>\n",
       "</div>"
      ],
      "text/plain": [
       "             Blue Top             Blue Jungle                 Blue Mid  \\\n",
       "0  [TripleBen, Nasus]       [Dark Memer, Zac]          [CroKette, Lux]   \n",
       "1     [but ok, Viego]       [Kanuera, Khazix]  [Meep Enjooyer, Viktor]   \n",
       "2     [Lewite, Vayne]  [Lundqvistt, Volibear]  [Chieurdepatate, Swain]   \n",
       "\n",
       "            Blue Carry          Blue Support                      Red Top  \\\n",
       "0     [ŃIRVANA, Kaisa]    [Bioniks1, Soraka]          [monkaS, Gangplank]   \n",
       "1      [tjfgx, Twitch]      [Vaati73, Yuumi]              [Lewite, Vayne]   \n",
       "2  [qfxnhfzkl, Twitch]  [spray em 50, Amumu]  [Sk8 The Infinity, Sejuani]   \n",
       "\n",
       "                   Red Jungle              Red Mid              Red Carry  \\\n",
       "0           [N0EQUAL, Rengar]  [CG Kinneke, Yasuo]         [Bendåx, Ashe]   \n",
       "1        [raymmondd, Nidalee]     [tuctuc1, Akali]    [qfxnhfzkl, Ezreal]   \n",
       "2  [ChemtrailsOverUs, Singed]     [Sekoiya, Yasuo]  [juicy ladyboy, Jinx]   \n",
       "\n",
       "             Red Support              Outcome  \n",
       "0      [Jonperi, Maokai]  Victoire des Rouges  \n",
       "1        [Bingu, Thresh]   Victoire des Bleus  \n",
       "2  [lοve too hard, Lulu]   Victoire des Bleus  "
      ]
     },
     "execution_count": 22,
     "metadata": {},
     "output_type": "execute_result"
    }
   ],
   "source": [
    "df_oct.head(3)"
   ]
  },
  {
   "cell_type": "code",
   "execution_count": 6,
   "id": "70eb7d95-a11f-42ae-ad8a-64196c49b087",
   "metadata": {},
   "outputs": [],
   "source": [
    "df_final_oct.to_csv('MatchsOctobre.csv', mode='x')\n",
    "df_final_nov.to_csv('MatchsNovembre.csv', mode='x')"
   ]
  },
  {
   "cell_type": "markdown",
   "id": "a284601e-ebd0-4c30-96f7-a3b5f6809b7b",
   "metadata": {
    "tags": []
   },
   "source": [
    "#### Petite apparté remise en page"
   ]
  },
  {
   "cell_type": "markdown",
   "id": "db8db94a-baab-43c8-b40e-0e5b2ce74347",
   "metadata": {},
   "source": [
    "Sinon, avec les fichiers *MatchsOctobre.csv* et *MatchsOctobre.csv*, on peut exécuter les programmes suivant qui vont refaire la mise en page de nos DataFrame et les rendres plus lisibles"
   ]
  },
  {
   "cell_type": "code",
   "execution_count": 11,
   "id": "9fcb08d4-396b-42e0-867e-8d3aa65fb3f4",
   "metadata": {},
   "outputs": [],
   "source": [
    "df_oct = pd.read_csv(\"MatchsOctobre.csv\",index_col = 0)\n",
    "for col in df_oct.columns[:-1]:\n",
    "    df_oct[col] = df_oct[col].apply(lambda x: eval(x))\n",
    "df_nov = pd.read_csv(\"MatchsNovembre.csv\",index_col = 0)\n",
    "for col in df_nov.columns[:-1]:\n",
    "    df_nov[col] = df_nov[col].apply(lambda x: eval(x))"
   ]
  },
  {
   "cell_type": "code",
   "execution_count": 12,
   "id": "d067fb17-8164-48f0-b899-16409c808b5e",
   "metadata": {},
   "outputs": [],
   "source": [
    "df_lecture_oct = convert_df(df_oct)\n",
    "df_lecture_nov = convert_df(df_nov)"
   ]
  },
  {
   "cell_type": "markdown",
   "id": "1f451941-1fb4-4113-8036-959721d633dd",
   "metadata": {},
   "source": [
    "Je vous laisse juger de la pertinence de cette remise en page, mais je concède que ce refaire la mise en page du DataFrame sachant que l'on va travailler sur la première version a très peu d'utilité."
   ]
  },
  {
   "cell_type": "code",
   "execution_count": 23,
   "id": "803d4983-8b07-4ef6-818c-9f98901e4ccd",
   "metadata": {},
   "outputs": [
    {
     "data": {
      "text/html": [
       "<div>\n",
       "<style scoped>\n",
       "    .dataframe tbody tr th:only-of-type {\n",
       "        vertical-align: middle;\n",
       "    }\n",
       "\n",
       "    .dataframe tbody tr th {\n",
       "        vertical-align: top;\n",
       "    }\n",
       "\n",
       "    .dataframe thead th {\n",
       "        text-align: right;\n",
       "    }\n",
       "</style>\n",
       "<table border=\"1\" class=\"dataframe\">\n",
       "  <thead>\n",
       "    <tr style=\"text-align: right;\">\n",
       "      <th></th>\n",
       "      <th></th>\n",
       "      <th>Blue Top</th>\n",
       "      <th>Blue Jungle</th>\n",
       "      <th>Blue Mid</th>\n",
       "      <th>Blue Carry</th>\n",
       "      <th>Blue Support</th>\n",
       "      <th>Red Top</th>\n",
       "      <th>Red Jungle</th>\n",
       "      <th>Red Mid</th>\n",
       "      <th>Red Carry</th>\n",
       "      <th>Red Support</th>\n",
       "      <th>Outcome</th>\n",
       "    </tr>\n",
       "    <tr>\n",
       "      <th>Partie</th>\n",
       "      <th>Infos</th>\n",
       "      <th></th>\n",
       "      <th></th>\n",
       "      <th></th>\n",
       "      <th></th>\n",
       "      <th></th>\n",
       "      <th></th>\n",
       "      <th></th>\n",
       "      <th></th>\n",
       "      <th></th>\n",
       "      <th></th>\n",
       "      <th></th>\n",
       "    </tr>\n",
       "  </thead>\n",
       "  <tbody>\n",
       "    <tr>\n",
       "      <th rowspan=\"2\" valign=\"top\">Partie 1</th>\n",
       "      <th>Pseudo</th>\n",
       "      <td>TripleBen</td>\n",
       "      <td>Dark Memer</td>\n",
       "      <td>CroKette</td>\n",
       "      <td>ŃIRVANA</td>\n",
       "      <td>Bioniks1</td>\n",
       "      <td>monkaS</td>\n",
       "      <td>N0EQUAL</td>\n",
       "      <td>CG Kinneke</td>\n",
       "      <td>Bendåx</td>\n",
       "      <td>Jonperi</td>\n",
       "      <td>Victoire des Rouges</td>\n",
       "    </tr>\n",
       "    <tr>\n",
       "      <th>Champion</th>\n",
       "      <td>Nasus</td>\n",
       "      <td>Zac</td>\n",
       "      <td>Lux</td>\n",
       "      <td>Kaisa</td>\n",
       "      <td>Soraka</td>\n",
       "      <td>Gangplank</td>\n",
       "      <td>Rengar</td>\n",
       "      <td>Yasuo</td>\n",
       "      <td>Ashe</td>\n",
       "      <td>Maokai</td>\n",
       "      <td>Victoire des Rouges</td>\n",
       "    </tr>\n",
       "    <tr>\n",
       "      <th rowspan=\"2\" valign=\"top\">Partie 2</th>\n",
       "      <th>Pseudo</th>\n",
       "      <td>but ok</td>\n",
       "      <td>Kanuera</td>\n",
       "      <td>Meep Enjooyer</td>\n",
       "      <td>tjfgx</td>\n",
       "      <td>Vaati73</td>\n",
       "      <td>Lewite</td>\n",
       "      <td>raymmondd</td>\n",
       "      <td>tuctuc1</td>\n",
       "      <td>qfxnhfzkl</td>\n",
       "      <td>Bingu</td>\n",
       "      <td>Victoire des Bleus</td>\n",
       "    </tr>\n",
       "    <tr>\n",
       "      <th>Champion</th>\n",
       "      <td>Viego</td>\n",
       "      <td>Khazix</td>\n",
       "      <td>Viktor</td>\n",
       "      <td>Twitch</td>\n",
       "      <td>Yuumi</td>\n",
       "      <td>Vayne</td>\n",
       "      <td>Nidalee</td>\n",
       "      <td>Akali</td>\n",
       "      <td>Ezreal</td>\n",
       "      <td>Thresh</td>\n",
       "      <td>Victoire des Bleus</td>\n",
       "    </tr>\n",
       "  </tbody>\n",
       "</table>\n",
       "</div>"
      ],
      "text/plain": [
       "                    Blue Top Blue Jungle       Blue Mid Blue Carry  \\\n",
       "Partie   Infos                                                       \n",
       "Partie 1 Pseudo    TripleBen  Dark Memer       CroKette    ŃIRVANA   \n",
       "         Champion      Nasus         Zac            Lux      Kaisa   \n",
       "Partie 2 Pseudo       but ok     Kanuera  Meep Enjooyer      tjfgx   \n",
       "         Champion      Viego      Khazix         Viktor     Twitch   \n",
       "\n",
       "                  Blue Support    Red Top Red Jungle     Red Mid  Red Carry  \\\n",
       "Partie   Infos                                                                \n",
       "Partie 1 Pseudo       Bioniks1     monkaS    N0EQUAL  CG Kinneke     Bendåx   \n",
       "         Champion       Soraka  Gangplank     Rengar       Yasuo       Ashe   \n",
       "Partie 2 Pseudo        Vaati73     Lewite  raymmondd     tuctuc1  qfxnhfzkl   \n",
       "         Champion        Yuumi      Vayne    Nidalee       Akali     Ezreal   \n",
       "\n",
       "                  Red Support              Outcome  \n",
       "Partie   Infos                                      \n",
       "Partie 1 Pseudo       Jonperi  Victoire des Rouges  \n",
       "         Champion      Maokai  Victoire des Rouges  \n",
       "Partie 2 Pseudo         Bingu   Victoire des Bleus  \n",
       "         Champion      Thresh   Victoire des Bleus  "
      ]
     },
     "execution_count": 23,
     "metadata": {},
     "output_type": "execute_result"
    }
   ],
   "source": [
    "df_lecture_oct.head(4)"
   ]
  }
 ],
 "metadata": {
  "kernelspec": {
   "display_name": "Python 3 (ipykernel)",
   "language": "python",
   "name": "python3"
  },
  "language_info": {
   "codemirror_mode": {
    "name": "ipython",
    "version": 3
   },
   "file_extension": ".py",
   "mimetype": "text/x-python",
   "name": "python",
   "nbconvert_exporter": "python",
   "pygments_lexer": "ipython3",
   "version": "3.9.13"
  }
 },
 "nbformat": 4,
 "nbformat_minor": 5
}
