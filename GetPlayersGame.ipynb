{
 "cells": [
  {
   "cell_type": "code",
   "execution_count": 11,
   "id": "f0cc0f6e-0209-4dec-94b7-862e7ba038e6",
   "metadata": {},
   "outputs": [],
   "source": [
    "import requests"
   ]
  },
  {
   "cell_type": "code",
   "execution_count": 4,
   "id": "03e72f2e-6c1e-48e7-9571-f09acb93d40d",
   "metadata": {},
   "outputs": [],
   "source": [
    "api_key = \"RGAPI-d43e9c63-454a-4494-83f0-b9f94feeca2b\"\n",
    "region = \"europe\"\n",
    "game_ID = \"EUW1_5697047365\""
   ]
  },
  {
   "cell_type": "code",
   "execution_count": null,
   "id": "6acb12fd-154d-464e-b372-6092a91ccc6c",
   "metadata": {},
   "outputs": [],
   "source": [
    "def Players_ID_Puller (gameID):\n",
    "    match_url = \"https://europe.api.riotgames.com/lol/match/v5/matches/{}?api_key={}\".format(game_ID ,api_key)\n",
    "    match_data = requests.get(match_url).json()\n",
    "    return match_data['metadata']['participants']"
   ]
  }
 ],
 "metadata": {
  "kernelspec": {
   "display_name": "Python 3 (ipykernel)",
   "language": "python",
   "name": "python3"
  },
  "language_info": {
   "codemirror_mode": {
    "name": "ipython",
    "version": 3
   },
   "file_extension": ".py",
   "mimetype": "text/x-python",
   "name": "python",
   "nbconvert_exporter": "python",
   "pygments_lexer": "ipython3",
   "version": "3.9.13"
  }
 },
 "nbformat": 4,
 "nbformat_minor": 5
}
